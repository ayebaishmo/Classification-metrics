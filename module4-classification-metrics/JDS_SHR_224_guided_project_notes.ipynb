{
  "cells": [
    {
      "cell_type": "markdown",
      "metadata": {
        "id": "EZyiOteN16cD"
      },
      "source": [
        "## BloomTech Data Science\n",
        "\n",
        "---"
      ]
    },
    {
      "cell_type": "markdown",
      "metadata": {
        "id": "KMI2k-oBsS08"
      },
      "source": [
        "# Classification Metrics\n",
        "\n",
        "- get and interpret the **confusion matrix** for classification models\n",
        "- use classification metrics: **precision, recall**\n",
        "- understand the relationships between precision, recall, **thresholds, and predicted probabilities**, to help **make decisions and allocate budgets**"
      ]
    },
    {
      "cell_type": "code",
      "execution_count": null,
      "metadata": {
        "id": "wXNKAp0MFnXW"
      },
      "outputs": [],
      "source": [
        "# %%capture\n",
        "# !pip install category_encoders==2.*"
      ]
    },
    {
      "cell_type": "code",
      "execution_count": null,
      "metadata": {
        "ExecuteTime": {
          "end_time": "2023-07-06T14:52:38.838317Z",
          "start_time": "2023-07-06T14:52:38.103642Z"
        },
        "id": "z03W-t5_B8TY"
      },
      "outputs": [],
      "source": [
        "# from category_encoders import OrdinalEncoder\n",
        "# from sklearn.ensemble import RandomForestClassifier\n",
        "# from sklearn.impute import SimpleImputer\n",
        "# from sklearn.metrics import ConfusionMatrixDisplay, classification_report\n",
        "# from sklearn.model_selection import train_test_split\n",
        "# from sklearn.pipeline import make_pipeline\n",
        "# from sklearn.preprocessing import StandardScaler\n",
        "# import numpy as np\n",
        "# import pandas as pd"
      ]
    },
    {
      "cell_type": "markdown",
      "metadata": {
        "id": "sUmaaCmCprYw"
      },
      "source": [
        "# Downloading the Tanzania Waterpump Dataset"
      ]
    },
    {
      "cell_type": "markdown",
      "metadata": {
        "id": "jkdEatMkUKa1"
      },
      "source": [
        "Make sure  you only use the dataset that is available through the **DS** **Kaggle Competition**. DO NOT USE any other Tanzania waterpump datasets that you might find online.\n",
        "\n",
        "There are two ways you can get the dataset. Make sure you have joined the competition first!:\n",
        "\n",
        "1. You can download the dataset directly by accessing the challenge and the files through the Kaggle Competition URL on Canvas (make sure you have joined the competition!)\n",
        "\n",
        "2. Use the Kaggle API using the code in the following cells. This article provides helpful information on how to fetch your Kaggle Dataset into Google Colab using the Kaggle API.\n",
        "\n",
        "> https://medium.com/analytics-vidhya/how-to-fetch-kaggle-datasets-into-google-colab-ea682569851a"
      ]
    },
    {
      "cell_type": "markdown",
      "metadata": {
        "id": "d6TZ5nDFYkCa"
      },
      "source": [
        "# Using Kaggle API to download datset"
      ]
    },
    {
      "cell_type": "code",
      "execution_count": null,
      "metadata": {
        "colab": {
          "base_uri": "https://localhost:8080/"
        },
        "id": "X2e6fPUATxLZ",
        "outputId": "6495b3e1-9af5-4299-b265-4acc99f18538"
      },
      "outputs": [
        {
          "name": "stdout",
          "output_type": "stream",
          "text": [
            "Mounted at /content/gdrive\n"
          ]
        }
      ],
      "source": [
        "# # mounting your google drive on colab\n",
        "# from google.colab import drive\n",
        "# drive.mount('/content/gdrive')"
      ]
    },
    {
      "cell_type": "code",
      "execution_count": null,
      "metadata": {
        "colab": {
          "base_uri": "https://localhost:8080/"
        },
        "id": "KYSpUv9uYBAo",
        "outputId": "b8e7a8fe-b024-4c72-a8ce-b4a2dae5525d"
      },
      "outputs": [
        {
          "name": "stdout",
          "output_type": "stream",
          "text": [
            "/content/gdrive/My Drive/Kaggle\n"
          ]
        }
      ],
      "source": [
        "#change your working directory, if you want to or have already saved your kaggle dataset on google drive.\n",
        "# %cd /content/gdrive/My Drive/Kaggle\n",
        "# update it to your folder location on drive that contains the dataset and/or kaggle API token json file."
      ]
    },
    {
      "cell_type": "code",
      "execution_count": null,
      "metadata": {
        "id": "dXChvgdZYb_t"
      },
      "outputs": [],
      "source": [
        "# Download your Kaggle Dataset, if you haven't already done so.\n",
        "# import os\n",
        "# os.environ['KAGGLE_CONFIG_DIR'] = \"/content/gdrive/My Drive/Kaggle\"\n",
        "# !kaggle competitions download -c bloomtech-water-pump-challenge"
      ]
    },
    {
      "cell_type": "code",
      "execution_count": null,
      "metadata": {
        "id": "NB84qgRRYdDF"
      },
      "outputs": [],
      "source": [
        "# Unzip your Kaggle dataset, if you haven't already done so.\n",
        "# !unzip \\*.zip  && rm *.zip"
      ]
    },
    {
      "cell_type": "code",
      "execution_count": null,
      "metadata": {
        "colab": {
          "base_uri": "https://localhost:8080/"
        },
        "id": "eag2zYiQYf6q",
        "outputId": "b1021e6f-85fa-436f-eade-b5da315e9e19"
      },
      "outputs": [
        {
          "name": "stdout",
          "output_type": "stream",
          "text": [
            "sample_submission.csv  test_features.csv  train_features.csv  train_labels.csv\n"
          ]
        }
      ],
      "source": [
        "# List all files in your Kaggle folder on your google drive.\n",
        "# !ls"
      ]
    },
    {
      "cell_type": "markdown",
      "metadata": {
        "id": "EfhziD2Wn_iO"
      },
      "source": [
        "# I. Wrangle Data"
      ]
    },
    {
      "cell_type": "code",
      "execution_count": 4,
      "metadata": {
        "id": "uYjLLI4ag_Bc"
      },
      "outputs": [],
      "source": [
        "import pandas as pd\n",
        "import numpy as np\n",
        "def wrangle(fm_path, tv_path=None):\n",
        "  if tv_path:\n",
        "    df = pd.merge(pd.read_csv(fm_path,\n",
        "                              na_values=[0, -2.000000e-08],\n",
        "                              parse_dates=['date_recorded']),\n",
        "                  pd.read_csv(tv_path)).set_index('id')\n",
        "    df['needs_repair'] = np.where(df['status_group']=='functional',0,1)\n",
        "    \n",
        "\n",
        "  else:\n",
        "\n",
        "    df = pd.read_csv(fm_path,\n",
        "                     na_values=[0, -2.000000e-08],\n",
        "                     parse_dates=['date_recorded'],\n",
        "                     index_col='id')\n",
        "\n",
        "\n",
        "  # Drop constant columns\n",
        "  df.drop(columns=['recorded_by'], inplace=True)\n",
        "\n",
        "  # Create age feature\n",
        "  df['pump_age'] = df['date_recorded'].dt.year - df['construction_year']\n",
        "  df.drop(columns='date_recorded', inplace=True)\n",
        "\n",
        "  # Drop HCCCs\n",
        "  cutoff = 100\n",
        "  drop_cols = [col for col in df.select_dtypes('object').columns\n",
        "              if df[col].nunique() > cutoff]\n",
        "  df.drop(columns=drop_cols, inplace=True)\n",
        "\n",
        "  # Drop duplicate columns # check for atleast a 100 values\n",
        "  dupe_cols = [col for col in df.head(100).T.duplicated().index\n",
        "               if df.head(100).T.duplicated()[col]]\n",
        "  df.drop(columns=dupe_cols, inplace=True)\n",
        "\n",
        "  return df\n",
        "\n",
        "df = wrangle(fm_path='C:/Users/ISHMO_CT/Downloads/Classification-metrics/Data-sets/train_features.csv',\n",
        "             tv_path='C:/Users/ISHMO_CT/Downloads/Classification-metrics/Data-sets/train_labels.csv')\n",
        "\n",
        "X_test = wrangle(fm_path='C:/Users/ISHMO_CT/Downloads/Classification-metrics/Data-sets/test_features.csv')"
      ]
    },
    {
      "cell_type": "markdown",
      "metadata": {
        "id": "Ni2SLySrZ5ZB"
      },
      "source": [
        "## EDA\n"
      ]
    },
    {
      "cell_type": "code",
      "execution_count": null,
      "metadata": {
        "id": "5bd-smZ3rTGD"
      },
      "outputs": [],
      "source": [
        "# Classify into pumps that need repair and pumps that do not need repairs.\n",
        "# functional - class 0\n",
        "# non functional, functional needs repair - class 1"
      ]
    },
    {
      "cell_type": "code",
      "execution_count": null,
      "metadata": {
        "id": "0wlFRLiTrTBZ"
      },
      "outputs": [],
      "source": [
        "# OPTION 1\n",
        "# np.where(df['status_group']=='functional',0,1)\n",
        "#NOTE : Added the code the wrangle function"
      ]
    },
    {
      "cell_type": "code",
      "execution_count": null,
      "metadata": {
        "id": "pGBCTAY4rX5S"
      },
      "outputs": [],
      "source": [
        "# OPTION 2\n",
        "# (df['status_group'] != 'functional').astype(int)"
      ]
    },
    {
      "cell_type": "code",
      "execution_count": null,
      "metadata": {
        "id": "zRW2JXQkrX0k"
      },
      "outputs": [],
      "source": [
        "# OPTION 3\n",
        "# df['status_group'].apply(lambda x: 0 if x=='functional' else 1)"
      ]
    },
    {
      "cell_type": "code",
      "execution_count": null,
      "metadata": {},
      "outputs": [],
      "source": [
        "# Have a look at "
      ]
    },
    {
      "cell_type": "markdown",
      "metadata": {
        "id": "dd3R4DDqg-Zc"
      },
      "source": [
        "# II. Split Data"
      ]
    },
    {
      "cell_type": "code",
      "execution_count": 6,
      "metadata": {
        "id": "KJptRukxgzjH"
      },
      "outputs": [],
      "source": [
        "# Split TV / FM\n",
        "from sklearn.model_selection import train_test_split\n",
        "target = 'status_group'\n",
        "X = df.drop(columns=target)\n",
        "y = df[target]\n",
        "\n",
        "# Train-val split\n",
        "X_train, X_val, y_train, y_val = train_test_split(X, y, test_size=0.2, random_state=42)\n",
        "\n",
        "# Sanity check\n",
        "assert len(X_train) + len(X_val) == len(X)"
      ]
    },
    {
      "cell_type": "markdown",
      "metadata": {
        "id": "u2-vAPn3hHUc"
      },
      "source": [
        "# Baseline"
      ]
    },
    {
      "cell_type": "code",
      "execution_count": 7,
      "metadata": {
        "id": "WKceqLphhGoJ"
      },
      "outputs": [
        {
          "name": "stdout",
          "output_type": "stream",
          "text": [
            "Baseline Accuracy: 0.5425489938182296\n"
          ]
        }
      ],
      "source": [
        "print('Baseline Accuracy:', y_train.value_counts(normalize=True).max())"
      ]
    },
    {
      "cell_type": "markdown",
      "metadata": {
        "id": "fK1_Gn61hJYd"
      },
      "source": [
        "# Build Model\n"
      ]
    },
    {
      "cell_type": "code",
      "execution_count": 14,
      "metadata": {
        "id": "EsnnXNnurCo9"
      },
      "outputs": [
        {
          "data": {
            "text/html": [
              "<style>#sk-container-id-1 {color: black;background-color: white;}#sk-container-id-1 pre{padding: 0;}#sk-container-id-1 div.sk-toggleable {background-color: white;}#sk-container-id-1 label.sk-toggleable__label {cursor: pointer;display: block;width: 100%;margin-bottom: 0;padding: 0.3em;box-sizing: border-box;text-align: center;}#sk-container-id-1 label.sk-toggleable__label-arrow:before {content: \"▸\";float: left;margin-right: 0.25em;color: #696969;}#sk-container-id-1 label.sk-toggleable__label-arrow:hover:before {color: black;}#sk-container-id-1 div.sk-estimator:hover label.sk-toggleable__label-arrow:before {color: black;}#sk-container-id-1 div.sk-toggleable__content {max-height: 0;max-width: 0;overflow: hidden;text-align: left;background-color: #f0f8ff;}#sk-container-id-1 div.sk-toggleable__content pre {margin: 0.2em;color: black;border-radius: 0.25em;background-color: #f0f8ff;}#sk-container-id-1 input.sk-toggleable__control:checked~div.sk-toggleable__content {max-height: 200px;max-width: 100%;overflow: auto;}#sk-container-id-1 input.sk-toggleable__control:checked~label.sk-toggleable__label-arrow:before {content: \"▾\";}#sk-container-id-1 div.sk-estimator input.sk-toggleable__control:checked~label.sk-toggleable__label {background-color: #d4ebff;}#sk-container-id-1 div.sk-label input.sk-toggleable__control:checked~label.sk-toggleable__label {background-color: #d4ebff;}#sk-container-id-1 input.sk-hidden--visually {border: 0;clip: rect(1px 1px 1px 1px);clip: rect(1px, 1px, 1px, 1px);height: 1px;margin: -1px;overflow: hidden;padding: 0;position: absolute;width: 1px;}#sk-container-id-1 div.sk-estimator {font-family: monospace;background-color: #f0f8ff;border: 1px dotted black;border-radius: 0.25em;box-sizing: border-box;margin-bottom: 0.5em;}#sk-container-id-1 div.sk-estimator:hover {background-color: #d4ebff;}#sk-container-id-1 div.sk-parallel-item::after {content: \"\";width: 100%;border-bottom: 1px solid gray;flex-grow: 1;}#sk-container-id-1 div.sk-label:hover label.sk-toggleable__label {background-color: #d4ebff;}#sk-container-id-1 div.sk-serial::before {content: \"\";position: absolute;border-left: 1px solid gray;box-sizing: border-box;top: 0;bottom: 0;left: 50%;z-index: 0;}#sk-container-id-1 div.sk-serial {display: flex;flex-direction: column;align-items: center;background-color: white;padding-right: 0.2em;padding-left: 0.2em;position: relative;}#sk-container-id-1 div.sk-item {position: relative;z-index: 1;}#sk-container-id-1 div.sk-parallel {display: flex;align-items: stretch;justify-content: center;background-color: white;position: relative;}#sk-container-id-1 div.sk-item::before, #sk-container-id-1 div.sk-parallel-item::before {content: \"\";position: absolute;border-left: 1px solid gray;box-sizing: border-box;top: 0;bottom: 0;left: 50%;z-index: -1;}#sk-container-id-1 div.sk-parallel-item {display: flex;flex-direction: column;z-index: 1;position: relative;background-color: white;}#sk-container-id-1 div.sk-parallel-item:first-child::after {align-self: flex-end;width: 50%;}#sk-container-id-1 div.sk-parallel-item:last-child::after {align-self: flex-start;width: 50%;}#sk-container-id-1 div.sk-parallel-item:only-child::after {width: 0;}#sk-container-id-1 div.sk-dashed-wrapped {border: 1px dashed gray;margin: 0 0.4em 0.5em 0.4em;box-sizing: border-box;padding-bottom: 0.4em;background-color: white;}#sk-container-id-1 div.sk-label label {font-family: monospace;font-weight: bold;display: inline-block;line-height: 1.2em;}#sk-container-id-1 div.sk-label-container {text-align: center;}#sk-container-id-1 div.sk-container {/* jupyter's `normalize.less` sets `[hidden] { display: none; }` but bootstrap.min.css set `[hidden] { display: none !important; }` so we also need the `!important` here to be able to override the default hidden behavior on the sphinx rendered scikit-learn.org. See: https://github.com/scikit-learn/scikit-learn/issues/21755 */display: inline-block !important;position: relative;}#sk-container-id-1 div.sk-text-repr-fallback {display: none;}</style><div id=\"sk-container-id-1\" class=\"sk-top-container\"><div class=\"sk-text-repr-fallback\"><pre>Pipeline(steps=[(&#x27;ordinalencoder&#x27;,\n",
              "                 OrdinalEncoder(cols=[&#x27;basin&#x27;, &#x27;region&#x27;, &#x27;public_meeting&#x27;,\n",
              "                                      &#x27;scheme_management&#x27;, &#x27;permit&#x27;,\n",
              "                                      &#x27;extraction_type&#x27;,\n",
              "                                      &#x27;extraction_type_group&#x27;,\n",
              "                                      &#x27;extraction_type_class&#x27;, &#x27;management&#x27;,\n",
              "                                      &#x27;management_group&#x27;, &#x27;payment&#x27;,\n",
              "                                      &#x27;payment_type&#x27;, &#x27;water_quality&#x27;,\n",
              "                                      &#x27;quality_group&#x27;, &#x27;quantity&#x27;, &#x27;source&#x27;,\n",
              "                                      &#x27;source_type&#x27;, &#x27;source_class&#x27;,\n",
              "                                      &#x27;waterpoint_type&#x27;,\n",
              "                                      &#x27;waterpoin...\n",
              "communal standpipe multiple    3\n",
              "improved spring                4\n",
              "other                          5\n",
              "cattle trough                  6\n",
              "dam                            7\n",
              "NaN                           -2\n",
              "dtype: int64},\n",
              "                                         {&#x27;col&#x27;: &#x27;waterpoint_type_group&#x27;,\n",
              "                                          &#x27;data_type&#x27;: dtype(&#x27;O&#x27;),\n",
              "                                          &#x27;mapping&#x27;: hand pump             1\n",
              "communal standpipe    2\n",
              "improved spring       3\n",
              "other                 4\n",
              "cattle trough         5\n",
              "dam                   6\n",
              "NaN                  -2\n",
              "dtype: int64}])),\n",
              "                (&#x27;simpleimputer&#x27;, SimpleImputer()),\n",
              "                (&#x27;randomforestclassifier&#x27;,\n",
              "                 RandomForestClassifier(n_estimators=25, n_jobs=-1,\n",
              "                                        random_state=42))])</pre><b>In a Jupyter environment, please rerun this cell to show the HTML representation or trust the notebook. <br />On GitHub, the HTML representation is unable to render, please try loading this page with nbviewer.org.</b></div><div class=\"sk-container\" hidden><div class=\"sk-item sk-dashed-wrapped\"><div class=\"sk-label-container\"><div class=\"sk-label sk-toggleable\"><input class=\"sk-toggleable__control sk-hidden--visually\" id=\"sk-estimator-id-1\" type=\"checkbox\" ><label for=\"sk-estimator-id-1\" class=\"sk-toggleable__label sk-toggleable__label-arrow\">Pipeline</label><div class=\"sk-toggleable__content\"><pre>Pipeline(steps=[(&#x27;ordinalencoder&#x27;,\n",
              "                 OrdinalEncoder(cols=[&#x27;basin&#x27;, &#x27;region&#x27;, &#x27;public_meeting&#x27;,\n",
              "                                      &#x27;scheme_management&#x27;, &#x27;permit&#x27;,\n",
              "                                      &#x27;extraction_type&#x27;,\n",
              "                                      &#x27;extraction_type_group&#x27;,\n",
              "                                      &#x27;extraction_type_class&#x27;, &#x27;management&#x27;,\n",
              "                                      &#x27;management_group&#x27;, &#x27;payment&#x27;,\n",
              "                                      &#x27;payment_type&#x27;, &#x27;water_quality&#x27;,\n",
              "                                      &#x27;quality_group&#x27;, &#x27;quantity&#x27;, &#x27;source&#x27;,\n",
              "                                      &#x27;source_type&#x27;, &#x27;source_class&#x27;,\n",
              "                                      &#x27;waterpoint_type&#x27;,\n",
              "                                      &#x27;waterpoin...\n",
              "communal standpipe multiple    3\n",
              "improved spring                4\n",
              "other                          5\n",
              "cattle trough                  6\n",
              "dam                            7\n",
              "NaN                           -2\n",
              "dtype: int64},\n",
              "                                         {&#x27;col&#x27;: &#x27;waterpoint_type_group&#x27;,\n",
              "                                          &#x27;data_type&#x27;: dtype(&#x27;O&#x27;),\n",
              "                                          &#x27;mapping&#x27;: hand pump             1\n",
              "communal standpipe    2\n",
              "improved spring       3\n",
              "other                 4\n",
              "cattle trough         5\n",
              "dam                   6\n",
              "NaN                  -2\n",
              "dtype: int64}])),\n",
              "                (&#x27;simpleimputer&#x27;, SimpleImputer()),\n",
              "                (&#x27;randomforestclassifier&#x27;,\n",
              "                 RandomForestClassifier(n_estimators=25, n_jobs=-1,\n",
              "                                        random_state=42))])</pre></div></div></div><div class=\"sk-serial\"><div class=\"sk-item\"><div class=\"sk-estimator sk-toggleable\"><input class=\"sk-toggleable__control sk-hidden--visually\" id=\"sk-estimator-id-2\" type=\"checkbox\" ><label for=\"sk-estimator-id-2\" class=\"sk-toggleable__label sk-toggleable__label-arrow\">OrdinalEncoder</label><div class=\"sk-toggleable__content\"><pre>OrdinalEncoder(cols=[&#x27;basin&#x27;, &#x27;region&#x27;, &#x27;public_meeting&#x27;, &#x27;scheme_management&#x27;,\n",
              "                     &#x27;permit&#x27;, &#x27;extraction_type&#x27;, &#x27;extraction_type_group&#x27;,\n",
              "                     &#x27;extraction_type_class&#x27;, &#x27;management&#x27;, &#x27;management_group&#x27;,\n",
              "                     &#x27;payment&#x27;, &#x27;payment_type&#x27;, &#x27;water_quality&#x27;,\n",
              "                     &#x27;quality_group&#x27;, &#x27;quantity&#x27;, &#x27;source&#x27;, &#x27;source_type&#x27;,\n",
              "                     &#x27;source_class&#x27;, &#x27;waterpoint_type&#x27;,\n",
              "                     &#x27;waterpoint_type_group&#x27;],\n",
              "               mapping=[{&#x27;col&#x27;: &#x27;ba...\n",
              "                         &#x27;mapping&#x27;: groundwater    1\n",
              "surface        2\n",
              "unknown        3\n",
              "NaN           -2\n",
              "dtype: int64},\n",
              "                        {&#x27;col&#x27;: &#x27;waterpoint_type&#x27;, &#x27;data_type&#x27;: dtype(&#x27;O&#x27;),\n",
              "                         &#x27;mapping&#x27;: hand pump                      1\n",
              "communal standpipe             2\n",
              "communal standpipe multiple    3\n",
              "improved spring                4\n",
              "other                          5\n",
              "cattle trough                  6\n",
              "dam                            7\n",
              "NaN                           -2\n",
              "dtype: int64},\n",
              "                        {&#x27;col&#x27;: &#x27;waterpoint_type_group&#x27;,\n",
              "                         &#x27;data_type&#x27;: dtype(&#x27;O&#x27;),\n",
              "                         &#x27;mapping&#x27;: hand pump             1\n",
              "communal standpipe    2\n",
              "improved spring       3\n",
              "other                 4\n",
              "cattle trough         5\n",
              "dam                   6\n",
              "NaN                  -2\n",
              "dtype: int64}])</pre></div></div></div><div class=\"sk-item\"><div class=\"sk-estimator sk-toggleable\"><input class=\"sk-toggleable__control sk-hidden--visually\" id=\"sk-estimator-id-3\" type=\"checkbox\" ><label for=\"sk-estimator-id-3\" class=\"sk-toggleable__label sk-toggleable__label-arrow\">SimpleImputer</label><div class=\"sk-toggleable__content\"><pre>SimpleImputer()</pre></div></div></div><div class=\"sk-item\"><div class=\"sk-estimator sk-toggleable\"><input class=\"sk-toggleable__control sk-hidden--visually\" id=\"sk-estimator-id-4\" type=\"checkbox\" ><label for=\"sk-estimator-id-4\" class=\"sk-toggleable__label sk-toggleable__label-arrow\">RandomForestClassifier</label><div class=\"sk-toggleable__content\"><pre>RandomForestClassifier(n_estimators=25, n_jobs=-1, random_state=42)</pre></div></div></div></div></div></div></div>"
            ],
            "text/plain": [
              "Pipeline(steps=[('ordinalencoder',\n",
              "                 OrdinalEncoder(cols=['basin', 'region', 'public_meeting',\n",
              "                                      'scheme_management', 'permit',\n",
              "                                      'extraction_type',\n",
              "                                      'extraction_type_group',\n",
              "                                      'extraction_type_class', 'management',\n",
              "                                      'management_group', 'payment',\n",
              "                                      'payment_type', 'water_quality',\n",
              "                                      'quality_group', 'quantity', 'source',\n",
              "                                      'source_type', 'source_class',\n",
              "                                      'waterpoint_type',\n",
              "                                      'waterpoin...\n",
              "communal standpipe multiple    3\n",
              "improved spring                4\n",
              "other                          5\n",
              "cattle trough                  6\n",
              "dam                            7\n",
              "NaN                           -2\n",
              "dtype: int64},\n",
              "                                         {'col': 'waterpoint_type_group',\n",
              "                                          'data_type': dtype('O'),\n",
              "                                          'mapping': hand pump             1\n",
              "communal standpipe    2\n",
              "improved spring       3\n",
              "other                 4\n",
              "cattle trough         5\n",
              "dam                   6\n",
              "NaN                  -2\n",
              "dtype: int64}])),\n",
              "                ('simpleimputer', SimpleImputer()),\n",
              "                ('randomforestclassifier',\n",
              "                 RandomForestClassifier(n_estimators=25, n_jobs=-1,\n",
              "                                        random_state=42))])"
            ]
          },
          "execution_count": 14,
          "metadata": {},
          "output_type": "execute_result"
        }
      ],
      "source": [
        "from sklearn.pipeline import make_pipeline\n",
        "from category_encoders import OrdinalEncoder\n",
        "from sklearn.impute import SimpleImputer\n",
        "from sklearn.ensemble import RandomForestClassifier\n",
        "model = make_pipeline(\n",
        "    OrdinalEncoder(),\n",
        "    SimpleImputer(),\n",
        "    RandomForestClassifier(n_estimators = 25, n_jobs = -1, random_state = 42)\n",
        ")\n",
        "\n",
        "model.fit(X_train, y_train)"
      ]
    },
    {
      "cell_type": "markdown",
      "metadata": {},
      "source": [
        "# Check Metrics"
      ]
    },
    {
      "cell_type": "code",
      "execution_count": null,
      "metadata": {},
      "outputs": [],
      "source": [
        "print('Training Accuracy:', model.score(X_train, y_train))\n",
        "print('Validation Accuracy:', model.score(X_val, y_val))"
      ]
    },
    {
      "cell_type": "markdown",
      "metadata": {
        "id": "8vM1rgtDzq2y"
      },
      "source": [
        "# Interlude: Beware or Leakage\n",
        "\n",
        "If you leave `'status_group'` in your feature matrix, you'll have **leakage**."
      ]
    },
    {
      "cell_type": "code",
      "execution_count": null,
      "metadata": {
        "id": "phZNiE8Yq2-x"
      },
      "outputs": [],
      "source": []
    },
    {
      "cell_type": "code",
      "execution_count": null,
      "metadata": {
        "id": "ES83EQ7krF-G"
      },
      "outputs": [],
      "source": []
    },
    {
      "cell_type": "markdown",
      "metadata": {
        "id": "DMwEt1k474xc"
      },
      "source": [
        "# Check Metrics"
      ]
    },
    {
      "cell_type": "markdown",
      "metadata": {
        "id": "judyBmufjFMO"
      },
      "source": [
        "**Accuracy Score**"
      ]
    },
    {
      "cell_type": "code",
      "execution_count": null,
      "metadata": {
        "id": "dYfiyggjjHJc"
      },
      "outputs": [],
      "source": [
        "print('Training Accuracy:', model.score(X_train, y_train))\n",
        "print('Validation Accuracy:', model.score(X_val, y_val))"
      ]
    },
    {
      "cell_type": "code",
      "execution_count": null,
      "metadata": {
        "id": "q0lbIK5sGtaE"
      },
      "outputs": [],
      "source": [
        "print('Training Accuracy:', model.score(X_train, y_train))\n",
        "print('Validation Accuracy:', model.score(X_val, y_val))"
      ]
    },
    {
      "cell_type": "markdown",
      "metadata": {
        "id": "AYl61hLojcoI"
      },
      "source": [
        "**Confusion Matrix**"
      ]
    },
    {
      "cell_type": "code",
      "execution_count": null,
      "metadata": {
        "id": "GIejjFdRB7nO"
      },
      "outputs": [],
      "source": [
        "plot_confusion_matrix = ConfusionMatrixDisplay.from_estimator"
      ]
    },
    {
      "cell_type": "code",
      "execution_count": null,
      "metadata": {
        "id": "g-PNkDJaqyEx"
      },
      "outputs": [],
      "source": []
    },
    {
      "cell_type": "markdown",
      "metadata": {
        "id": "p-1W_YipqZRU"
      },
      "source": [
        "**Precision Score**\n",
        "\n",
        "Of all the pumps that you predicted as needing repair, what proportion actually needed repair?"
      ]
    },
    {
      "cell_type": "code",
      "execution_count": null,
      "metadata": {
        "id": "9n6KnkW8qwaK"
      },
      "outputs": [],
      "source": [
        "# precision = tp / (tp + fp)"
      ]
    },
    {
      "cell_type": "code",
      "execution_count": null,
      "metadata": {
        "id": "vPy4pV0fqwXB"
      },
      "outputs": [],
      "source": []
    },
    {
      "cell_type": "markdown",
      "metadata": {
        "id": "K7LCntg4r3Dx"
      },
      "source": [
        "**Recall Score**\n",
        "\n",
        "Of those pumps that actually needed repair, what proportion did you correctly predict as needing repair?"
      ]
    },
    {
      "cell_type": "code",
      "execution_count": null,
      "metadata": {
        "id": "V6U_VSUvqv9q"
      },
      "outputs": [],
      "source": [
        "# recall tp/(tp+fn)"
      ]
    },
    {
      "cell_type": "code",
      "execution_count": null,
      "metadata": {
        "id": "BcWG-udxqvfy"
      },
      "outputs": [],
      "source": []
    },
    {
      "cell_type": "markdown",
      "metadata": {
        "id": "dlUIxr6Qsyto"
      },
      "source": [
        "**Classification Report**"
      ]
    },
    {
      "cell_type": "code",
      "execution_count": null,
      "metadata": {
        "id": "6xWoHiYzqtfe"
      },
      "outputs": [],
      "source": []
    },
    {
      "cell_type": "code",
      "execution_count": null,
      "metadata": {
        "id": "ZFwk8TyzquYJ"
      },
      "outputs": [],
      "source": []
    },
    {
      "cell_type": "markdown",
      "metadata": {
        "id": "gY651G8UTz14"
      },
      "source": [
        "# Case Study\n",
        "\n",
        "Let's say that is costs the Tanzanian government $100 to inspect a water pump, and there is only funding for 2000 pump inspections."
      ]
    },
    {
      "cell_type": "code",
      "execution_count": null,
      "metadata": {
        "id": "C-Zd7BTYqq6n"
      },
      "outputs": [],
      "source": []
    },
    {
      "cell_type": "markdown",
      "metadata": {
        "id": "NCEOYhXLT6jU"
      },
      "source": [
        "Scenario 1: Choose pumps randomly"
      ]
    },
    {
      "cell_type": "code",
      "execution_count": null,
      "metadata": {
        "id": "QdSCwgzQqr8_"
      },
      "outputs": [],
      "source": []
    },
    {
      "cell_type": "code",
      "execution_count": null,
      "metadata": {
        "id": "lV8S_Yclqr2u"
      },
      "outputs": [],
      "source": []
    },
    {
      "cell_type": "code",
      "execution_count": null,
      "metadata": {
        "id": "bi3hLi8sbDcS"
      },
      "outputs": [],
      "source": [
        "\n",
        "print('Inspections conducted:',)\n",
        "print('Pumps repaired:', )\n",
        "print('Funds wasted:', )"
      ]
    },
    {
      "cell_type": "markdown",
      "metadata": {
        "id": "T1JrG_BEUgCd"
      },
      "source": [
        "Scenario 2: Using our model \"out of the box\""
      ]
    },
    {
      "cell_type": "code",
      "execution_count": null,
      "metadata": {
        "id": "GDW3853cqlpe"
      },
      "outputs": [],
      "source": [
        "data = {\n",
        "    'y_val':y_val,\n",
        "    'y_pred':\n",
        "}\n",
        "\n",
        "results =pd.DataFrame(data)"
      ]
    },
    {
      "cell_type": "code",
      "execution_count": null,
      "metadata": {
        "id": "o64ZB62PqmiX"
      },
      "outputs": [],
      "source": []
    },
    {
      "cell_type": "code",
      "execution_count": null,
      "metadata": {
        "id": "QFoLTRxocMpw"
      },
      "outputs": [],
      "source": [
        "print('Inspections conducted:',)\n",
        "print('Pumps repaired:',  )\n",
        "print('Funds wasted:',)"
      ]
    },
    {
      "cell_type": "markdown",
      "metadata": {
        "id": "Sj_80wEQb3N1"
      },
      "source": [
        "Scenario 3: We empasize **precision** in our model, and only select pumps that our model is very certain (`>0.85`) need repair."
      ]
    },
    {
      "cell_type": "code",
      "execution_count": null,
      "metadata": {
        "id": "yB4jG29FEmUz"
      },
      "outputs": [],
      "source": [
        "data = {\n",
        "    'y_val':y_val,\n",
        "    'y_pred_proba':\n",
        "}\n",
        "\n",
        "results =pd.DataFrame(data)"
      ]
    },
    {
      "cell_type": "code",
      "execution_count": null,
      "metadata": {
        "id": "Im5juTHQqdgb"
      },
      "outputs": [],
      "source": []
    },
    {
      "cell_type": "code",
      "execution_count": null,
      "metadata": {
        "id": "A3aN9TD6d0ly"
      },
      "outputs": [],
      "source": []
    },
    {
      "cell_type": "code",
      "execution_count": null,
      "metadata": {
        "id": "TC1G1ZmHeVgN"
      },
      "outputs": [],
      "source": [
        "print('Inspections conducted:', )\n",
        "print('Pumps repaired:', )\n",
        "print('Funds wasted:', )\n"
      ]
    }
  ],
  "metadata": {
    "colab": {
      "provenance": []
    },
    "kernelspec": {
      "display_name": "Python 3",
      "language": "python",
      "name": "python3"
    },
    "language_info": {
      "codemirror_mode": {
        "name": "ipython",
        "version": 3
      },
      "file_extension": ".py",
      "mimetype": "text/x-python",
      "name": "python",
      "nbconvert_exporter": "python",
      "pygments_lexer": "ipython3",
      "version": "3.11.7"
    }
  },
  "nbformat": 4,
  "nbformat_minor": 0
}
